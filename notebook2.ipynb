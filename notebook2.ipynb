{
 "cells": [
  {
   "cell_type": "code",
   "id": "initial_id",
   "metadata": {
    "collapsed": true
   },
   "source": [
    "# Testing deconvolutions for temp test folder (containing 1 image)\n",
    "\n",
    "from nrrd import read, write\n",
    "from tifffile import imwrite\n",
    "import shutil, os\n",
    "import time\n",
    "\n",
    "# delete old directory\n",
    "try:\n",
    "    shutil.rmtree(r\"E:\\TMP\\Keivan\\de\\temp\")\n",
    "    os.remove(r\"E:\\TMP\\Keivan\\de\\y00010920.x00005472.nrrd\")\n",
    "except FileNotFoundError:\n",
    "    print(\"File not found\")\n",
    "    \n",
    "print(\"Old directory deleted\")\n",
    "time.sleep(2)\n",
    "\n",
    "# run fnt_cube_processor.py --no-destripe --wavelength_ex 642 --wavelength_em 690    <- TODO: program crashes\n",
    "! python .\\fnt_cube_processor.py -i E:\\TMP\\Keivan\\or -o E:\\TMP\\Keivan\\de -n 1 -d --no-destripe --nimm 1.42 --dxy 0.7 --dz 1.2\n",
    "# time.sleep(2)\n",
    "# img, header = read(r\"E:\\TMP\\Keivan\\de\\y00010920.x00005472.nrrd\")\n",
    "# imwrite(r\"E:\\TMP\\Keivan\\de\\test_gd_de_1.42_600.tif\", img, compression=1)\n",
    "\n",
    "# img, header = read(r\"E:\\TMP\\Keivan\\or\\y00010920.x00005472.nrrd\")\n",
    "# imwrite(r\"E:\\TMP\\Keivan\\de\\test_or.tif\", img, compression=1)"
   ],
   "outputs": [],
   "execution_count": null
  },
  {
   "cell_type": "code",
   "execution_count": 2,
   "outputs": [
    {
     "name": "stdout",
     "output_type": "stream",
     "text": [
      "Old directory deleted\n"
     ]
    },
    {
     "name": "stderr",
     "output_type": "stream",
     "text": [
      "C:\\Users\\ajan\\AppData\\Local\\anaconda3\\envs\\stitching\\Lib\\site-packages\\pycudadecon\\_libwrap.py:44: UserWarning: Unable to find function: camcor_interface_init in libcudaDecon\n",
      "  @lib.function\n",
      "C:\\Users\\ajan\\AppData\\Local\\anaconda3\\envs\\stitching\\Lib\\site-packages\\pycudadecon\\_libwrap.py:51: UserWarning: Unable to find function: camcor_interface in libcudaDecon\n",
      "  @lib.function\n",
      "\n",
      "FNT Cube Processor:   0%|          | 0/1 [00:00<?, ? cubes/s]\n",
      "FNT Cube Processor: 100%|##########| 1/1 [00:05<00:00,  5.73s/ cubes]\n",
      "FNT Cube Processor: 100%|##########| 1/1 [00:05<00:00,  5.73s/ cubes]\n"
     ]
    },
    {
     "name": "stdout",
     "output_type": "stream",
     "text": [
      "Two objects are distinguishable in xy-plane if they are 801 nm apart. The camera pixel size is 700 nm.\n",
      "Two objects are distinguishable in z-axis if they are 8662 nm apart. The z-step is 1400 nm.\n",
      "full width half maxima of xy-plane is 958.9 nm.\n",
      "full width half maxima of z-axis is 9202.4 nm.\n",
      "otf shape:  (0, 8, 18)\n",
      "image size before pad:  (320, 320, 160)\n",
      "image size after pad:  (324, 336, 180)\n",
      "image size after first decon:  (324, 336, 180)\n",
      "image size after gaussian:  (324, 336, 180)\n",
      "image size after second decon:  (324, 336, 180)\n",
      "image size after crop:  (320, 320, 160)\n"
     ]
    }
   ],
   "source": [
    "# Testing deconvolutions for temp test folder (containing 1 image)\n",
    "\n",
    "from nrrd import read, write\n",
    "from tifffile import imwrite\n",
    "import shutil, os\n",
    "import time\n",
    "\n",
    "# delete old directory\n",
    "try:\n",
    "    shutil.rmtree(r\"E:\\TMP\\Aidan\\out_test_single\\temp\")\n",
    "    os.remove(r\"E:\\TMP\\Aidan\\out_test_single\\y00006400.x00019200.nrrd\")\n",
    "except FileNotFoundError:\n",
    "    print(\"File not found\")\n",
    "    \n",
    "print(\"Old directory deleted\")\n",
    "time.sleep(0.5)\n",
    "\n",
    "# run fnt_cube_processor.py\n",
    "! python .\\fnt_cube_processor.py -i E:\\TMP\\Aidan\\tmp -o E:\\TMP\\Aidan\\out_test_single -n 1 -d  \n",
    "# time.sleep(2)\n",
    "img, header = read(r\"E:\\TMP\\Aidan\\out_test_single\\y00006400.x00019200.nrrd\")\n",
    "imwrite(r\"E:\\TMP\\Aidan\\out_test_single\\test_decon.tif\", img, compression=1)"
   ],
   "metadata": {
    "collapsed": false,
    "ExecuteTime": {
     "end_time": "2024-10-31T10:01:07.246216200Z",
     "start_time": "2024-10-31T10:00:55.609271200Z"
    }
   },
   "id": "c32ddeb918f2b3de"
  },
  {
   "cell_type": "code",
   "execution_count": null,
   "outputs": [],
   "source": [
    "def get_next_good_dim(n: int):\n",
    "    print(\"called get_next_good_dim\")\n",
    "    while True:\n",
    "        temp = n\n",
    "        for prime in [2, 3, 5, 7]:\n",
    "            while temp % prime == 0:\n",
    "                temp //= prime\n",
    "        if temp != 1:\n",
    "            n += 1\n",
    "        else:\n",
    "            break\n",
    "    return n\n",
    "\n",
    "get_next_good_dim(160)"
   ],
   "metadata": {
    "collapsed": false
   },
   "id": "64b57d7f59a95d98"
  },
  {
   "cell_type": "code",
   "execution_count": null,
   "outputs": [],
   "source": [
    "def convert_file(input_nrrd):\n",
    "    img, header = read(input_nrrd.__str__())\n",
    "    tif_path = Path(output_tif_folder) / (input_nrrd.name[:-4] + 'tif')\n",
    "    imwrite(tif_path.__str__(), img, compression=1)\n",
    "    return 1"
   ],
   "metadata": {
    "collapsed": false
   },
   "id": "2542c135b9871e57"
  },
  {
   "cell_type": "code",
   "execution_count": null,
   "outputs": [],
   "source": [
    "# Testing deconvolutions for real folder (this one takes a long time)\n",
    "from nrrd import read\n",
    "from tifffile import imwrite\n",
    "from pathlib import Path\n",
    "from os import system \n",
    "from multiprocessing import Pool\n",
    "\n",
    "\n",
    "# running fnt_cube_processor with 8 threads\n",
    "input_folder = r\"E:\\TMP\\Aidan\\z00003200\"\n",
    "output_nrrd_folder = r\"E:\\TMP\\Aidan\\z00003200_deconv_nrrd\"\n",
    "output_tif_folder = r\"E:\\TMP\\Aidan\\z00003200_tif\"\n",
    "num_threads = 8\n",
    "\n",
    "system(fr\"python .\\fnt_cube_processor.py -i {input_folder} -o {output_nrrd_folder} -n {num_threads} -d\")\n",
    "\n",
    "# convert to tif files\n",
    "nrrd_paths = [f for f in Path(output_nrrd_folder).iterdir() if f.is_file()]\n",
    "\n",
    "# convert single file to tif\n",
    "def convert_file(input_nrrd: Path):\n",
    "    img, header = read(input_nrrd.__str__())\n",
    "    tif_path = Path(output_tif_folder) / (input_nrrd.name[:-4] + 'tif')\n",
    "    imwrite(tif_path.__str__(), img, compression=1)\n",
    "    return 1\n",
    "\n",
    "for path in nrrd_paths:\n",
    "    convert_file(path)\n",
    "\n",
    "print(\"All nrrd -> tif conversions completed successfully\")\n"
   ],
   "metadata": {
    "collapsed": false
   },
   "id": "2b300b5d7e7718f8"
  }
 ],
 "metadata": {
  "kernelspec": {
   "display_name": "Python 3",
   "language": "python",
   "name": "python3"
  },
  "language_info": {
   "codemirror_mode": {
    "name": "ipython",
    "version": 2
   },
   "file_extension": ".py",
   "mimetype": "text/x-python",
   "name": "python",
   "nbconvert_exporter": "python",
   "pygments_lexer": "ipython2",
   "version": "2.7.6"
  }
 },
 "nbformat": 4,
 "nbformat_minor": 5
}
