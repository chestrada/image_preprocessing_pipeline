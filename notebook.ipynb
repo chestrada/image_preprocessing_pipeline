{
 "cells": [
  {
   "metadata": {},
   "cell_type": "markdown",
   "source": "# Load Libraries",
   "id": "e8eb164e6ef5784e"
  },
  {
   "cell_type": "code",
   "id": "initial_id",
   "metadata": {
    "collapsed": true
   },
   "source": [
    "from IPython.display import display, HTML\n",
    "from pystripe.core import *\n",
    "import matplotlib.pyplot as plt\n",
    "\n",
    "from supplements.croping import imwrite_lzw\n",
    "\n",
    "display(HTML(\"<style>.container { width:100% !important; }</style>\"))\n",
    "\n",
    "def plot_images(img_list: List[ndarray], img_labels: List[str], vmax: int):\n",
    "    fig, axes = plt.subplots(nrows=1, ncols=len(img_list), figsize=(20, 20))\n",
    "    for idx, (im, label) in enumerate(zip(img_list, img_labels)):\n",
    "        axes[idx].imshow(im, cmap='gray', vmin=0, vmax=vmax)\n",
    "        axes[idx].set_title(label)\n",
    "    plt.tight_layout()\n",
    "    plt.show()\n",
    "img = imread_tif_raw_png(Path(r\"C:\\Users\\kmoradi\\Downloads\\test.png\"))"
   ],
   "outputs": [],
   "execution_count": null
  },
  {
   "metadata": {},
   "cell_type": "markdown",
   "source": "# Test Deconvolution",
   "id": "d01b186c11ad59cd"
  },
  {
   "cell_type": "code",
   "source": [
    "# Testing deconvolutions for temp test folder (containing 1 image)\n",
    "\n",
    "from nrrd import read, write\n",
    "from tifffile import imwrite\n",
    "import shutil, os\n",
    "import time\n",
    "from pathlib import Path\n",
    "from PIL import Image\n",
    "\n",
    "# # delete old directory\n",
    "# try:\n",
    "#     shutil.rmtree(r\"E:\\TMP\\Aidan\\out_test_single\\temp\")\n",
    "#     os.remove(r\"E:\\TMP\\Aidan\\out_test_single\\y00006400.x00019200.nrrd\")\n",
    "# except FileNotFoundError:\n",
    "#     print(\"File not found\")\n",
    "# \n",
    "# print(\"Old directory deleted\")\n",
    "# time.sleep(0.5)\n",
    "# \n",
    "# # run fnt_cube_processor.py\n",
    "! python .\\fnt_cube_processor.py -i E:\\TMP\\Keivan\\decon_test_input -o E:\\TMP\\Keivan\\decon_test_output -n 1 -d -dxy .7 -dz 1.2 -ds -g 1 -it 12 -dgi 3 -cef 1 -dpsf\n",
    "# # time.sleep(2)\n",
    "output = Path(r\"E:\\TMP\\Keivan\\decon_test_output\")\n",
    "for file in output.glob(\"*.nrrd\"):\n",
    "    img, header = read(file)\n",
    "    # imwrite(output / (file.stem + \".tif\"), img, compression=\"LZW\")\n",
    "    image_stack = [Image.fromarray(_) for _ in img]\n",
    "    image_stack[0].save(output / (file.stem + \".tif\"), save_all=True, append_images=image_stack[1:], compression='tiff_lzw')\n",
    "    file.unlink()"
   ],
   "metadata": {
    "collapsed": false
   },
   "id": "c32ddeb918f2b3de",
   "outputs": [],
   "execution_count": null
  },
  {
   "metadata": {},
   "cell_type": "markdown",
   "source": "# Compare two groups of neuron names to see which one is missing in each group",
   "id": "855d9984c1b851a0"
  },
  {
   "metadata": {},
   "cell_type": "code",
   "source": [
    "import pandas as pd\n",
    "from pathlib import Path\n",
    "SWCs = Path(r\"Y:\\3D_stitched_LS\\20230624_SM230223_05_LS_15x_800z_Double_MORF_B4\\Ex_642_Em_690_Ano\\QC2\\SWCs\")\n",
    "tracker = Path(r\"D:\\kmoradi\\Documents\\Downloads\\KM_SN) SM230323-05 (B4) Tracker - Tracker.csv\")\n",
    "df = pd.read_csv(tracker, skiprows=1)\n",
    "df = df[~df.Unreconstructable]\n",
    "# df = df[df.QC1]\n",
    "df = df[~pd.isna(df.Reconstructor)]\n",
    "#df = df[df.Channel == \"Ex_488_Em_525\"]\n",
    "df = df[df.Channel == \"Ex_642_Em_690\"]\n",
    "neuron_ids = set(df.Neuron_ID)\n",
    "files = set(tuple([file.stem for file in SWCs.glob(\"*.swc\")] + [file.stem for file in SWCs.glob(\"*.fnt\")]))\n",
    "print(\"neuron in tracker missing on QC2\")\n",
    "for file in neuron_ids.difference(files):\n",
    "    print(file)\n",
    "print(\"neuron in QC2 missing on tracker\")\n",
    "for file in files.difference(neuron_ids):\n",
    "    print(file)"
   ],
   "id": "50c36e5d8190f177",
   "outputs": [],
   "execution_count": null
  },
  {
   "metadata": {},
   "cell_type": "markdown",
   "source": "# Find seeds that are not reconstructed already",
   "id": "885fb4beaa53175"
  },
  {
   "metadata": {},
   "cell_type": "code",
   "source": [
    "from pathlib import Path\n",
    "SWCs = Path(r\"X:\\3D_stitched_LS\\20231010_FM230407_07_LS_15x_800z_AD1\\Ex_642_Ch2_Ano\\QC2\\SWCs\")\n",
    "Seeds = Path(r\"X:\\3D_stitched_LS\\20231010_FM230407_07_LS_15x_800z_AD1\\Ex_642_Ch2_Ano\\Seeds\\Unsorted\")\n",
    "files = set(tuple([file.stem for file in SWCs.glob(\"*.swc\")]))\n",
    "seeds = set(tuple([file.stem for file in Seeds.glob(\"*.swc\")]))\n",
    "print(f\"{len(seeds.intersection(files))} neuron in Seeds folder that are already reconstructed\")\n",
    "for file in seeds.intersection(files):\n",
    "    (Seeds / (file + \".swc\")).unlink()\n",
    "    # print(file)\n",
    "# print(f\"{len(files.difference(seeds))} neuron in QC2 missing in Seeds folder\")\n",
    "# for file in files.difference(seeds):\n",
    "#     (Seeds / (file + \".swc\")).unlink()\n",
    "    # print(file)"
   ],
   "id": "51d11e926b0f5d0",
   "outputs": [],
   "execution_count": null
  }
 ],
 "metadata": {
  "kernelspec": {
   "display_name": "Python 3",
   "language": "python",
   "name": "python3"
  },
  "language_info": {
   "codemirror_mode": {
    "name": "ipython",
    "version": 2
   },
   "file_extension": ".py",
   "mimetype": "text/x-python",
   "name": "python",
   "nbconvert_exporter": "python",
   "pygments_lexer": "ipython2",
   "version": "2.7.6"
  }
 },
 "nbformat": 4,
 "nbformat_minor": 5
}
